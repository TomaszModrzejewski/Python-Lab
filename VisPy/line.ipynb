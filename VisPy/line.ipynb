{
  "cells": [
    {
      "cell_type": "code",
      "execution_count": null,
      "metadata": {
        "collapsed": false
      },
      "outputs": [],
      "source": [
        "%gui qt"
      ]
    },
    {
      "cell_type": "markdown",
      "metadata": {},
      "source": [
        "\n# Draw a Line\n\nSimple demonstration of SceneCanvas containing a single line entity\nas its entire scenegraph.\n"
      ]
    },
    {
      "cell_type": "code",
      "execution_count": null,
      "metadata": {
        "collapsed": false
      },
      "outputs": [],
      "source": [
        "import sys\nimport numpy as np\n\nfrom vispy import app, scene\n\ncanvas = scene.SceneCanvas(size=(800, 600), keys='interactive')\n\nN = 1000\npos = np.empty((N, 2), np.float32)\npos[:, 0] = np.linspace(50., 750., N)\n#\ncolor = np.ones((N, 4), dtype=np.float32)\ncolor[:, 0] = np.linspace(0, 1, N)\ncolor[:, 1] = color[::-1, 0]\n\nlines = []\n\nprint('Generating points...')\nfor i in range(20):\n    pos = pos.copy()\n    pos[:, 1] = np.random.normal(scale=5, loc=(i+1)*30, size=N)\n    line = scene.visuals.Line(pos=pos, color=color, parent=canvas.scene)\n    lines.append(line)\n    line.transform = scene.transforms.STTransform()\nprint('Done')\n\n\ndef update(event):\n    for line in lines:\n        scale = [np.sin(np.pi * event.elapsed)+2,\n                 np.cos(np.pi * event.elapsed)+2]\n        line.transform.scale = scale\n\ntimer = app.Timer('auto', connect=update, start=True)\n\nif __name__ == '__main__':\n    canvas.show()\n    if sys.flags.interactive == 0:\n        app.run()"
      ]
    }
  ],
  "metadata": {
    "kernelspec": {
      "display_name": "Python 3",
      "language": "python",
      "name": "python3"
    },
    "language_info": {
      "codemirror_mode": {
        "name": "ipython",
        "version": 3
      },
      "file_extension": ".py",
      "mimetype": "text/x-python",
      "name": "python",
      "nbconvert_exporter": "python",
      "pygments_lexer": "ipython3",
      "version": "3.9.0"
    }
  },
  "nbformat": 4,
  "nbformat_minor": 0
}