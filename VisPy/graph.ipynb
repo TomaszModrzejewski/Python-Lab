{
  "cells": [
    {
      "cell_type": "code",
      "execution_count": null,
      "metadata": {
        "collapsed": false
      },
      "outputs": [],
      "source": [
        "%gui qt"
      ]
    },
    {
      "cell_type": "markdown",
      "metadata": {},
      "source": [
        "\n# Visualize NetworkX Graph\n\nThis example demonstrates how to visualise a NetworkX graph using a VisPy\nGraph.\n"
      ]
    },
    {
      "cell_type": "code",
      "execution_count": null,
      "metadata": {
        "collapsed": false
      },
      "outputs": [],
      "source": [
        "import sys\n\nimport networkx as nx\n\nfrom vispy import app, scene\nfrom vispy.visuals.graphs import layouts\n\n\ncanvas = scene.SceneCanvas(title='Simple NetworkX Graph', size=(600, 600),\n                           bgcolor='white', show=True)\nview = canvas.central_widget.add_view('panzoom')\n\ngraph = nx.adjacency_matrix(\n    nx.fast_gnp_random_graph(500, 0.005, directed=True))\nlayout = layouts.get_layout('force_directed', iterations=100)\n\nvisual = scene.visuals.Graph(\n    graph, layout=layout, line_color='black', arrow_type=\"stealth\",\n    arrow_size=30, node_symbol=\"disc\", node_size=20,\n    face_color=(1, 0, 0, 0.2), border_width=0.0, animate=True, directed=False,\n    parent=view.scene)\n\n\n@canvas.events.draw.connect\ndef on_draw(event):\n    if not visual.animate_layout():\n        canvas.update()\n\nif __name__ == '__main__':\n    if sys.flags.interactive != 1:\n        app.run()"
      ]
    }
  ],
  "metadata": {
    "kernelspec": {
      "display_name": "Python 3",
      "language": "python",
      "name": "python3"
    },
    "language_info": {
      "codemirror_mode": {
        "name": "ipython",
        "version": 3
      },
      "file_extension": ".py",
      "mimetype": "text/x-python",
      "name": "python",
      "nbconvert_exporter": "python",
      "pygments_lexer": "ipython3",
      "version": "3.9.0"
    }
  },
  "nbformat": 4,
  "nbformat_minor": 0
}