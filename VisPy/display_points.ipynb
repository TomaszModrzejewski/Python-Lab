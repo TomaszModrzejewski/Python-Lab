{
  "cells": [
    {
      "cell_type": "code",
      "execution_count": null,
      "metadata": {
        "collapsed": false
      },
      "outputs": [],
      "source": [
        "%gui qt"
      ]
    },
    {
      "cell_type": "markdown",
      "metadata": {},
      "source": [
        "\n# Draw 2D points\n\nSimple example plotting 2D points.\n"
      ]
    },
    {
      "cell_type": "code",
      "execution_count": null,
      "metadata": {
        "collapsed": false
      },
      "outputs": [],
      "source": [
        "from vispy import gloo\nfrom vispy import app\nimport numpy as np\n\nVERT_SHADER = \"\"\"\nattribute vec2  a_position;\nattribute vec3  a_color;\nattribute float a_size;\n\nvarying vec4 v_fg_color;\nvarying vec4 v_bg_color;\nvarying float v_radius;\nvarying float v_linewidth;\nvarying float v_antialias;\n\nvoid main (void) {\n    v_radius = a_size;\n    v_linewidth = 1.0;\n    v_antialias = 1.0;\n    v_fg_color  = vec4(0.0,0.0,0.0,0.5);\n    v_bg_color  = vec4(a_color,    1.0);\n\n    gl_Position = vec4(a_position, 0.0, 1.0);\n    gl_PointSize = 2.0*(v_radius + v_linewidth + 1.5*v_antialias);\n}\n\"\"\"\n\nFRAG_SHADER = \"\"\"\n#version 120\n\nvarying vec4 v_fg_color;\nvarying vec4 v_bg_color;\nvarying float v_radius;\nvarying float v_linewidth;\nvarying float v_antialias;\nvoid main()\n{\n    float size = 2.0*(v_radius + v_linewidth + 1.5*v_antialias);\n    float t = v_linewidth/2.0-v_antialias;\n    float r = length((gl_PointCoord.xy - vec2(0.5,0.5))*size);\n    float d = abs(r - v_radius) - t;\n    if( d < 0.0 )\n        gl_FragColor = v_fg_color;\n    else\n    {\n        float alpha = d/v_antialias;\n        alpha = exp(-alpha*alpha);\n        if (r > v_radius)\n            gl_FragColor = vec4(v_fg_color.rgb, alpha*v_fg_color.a);\n        else\n            gl_FragColor = mix(v_bg_color, v_fg_color, alpha);\n    }\n}\n\"\"\"\n\n\nclass Canvas(app.Canvas):\n\n    def __init__(self):\n        app.Canvas.__init__(self, keys='interactive')\n        ps = self.pixel_scale\n\n        # Create vertices\n        n = 10000\n        v_position = 0.25 * np.random.randn(n, 2).astype(np.float32)\n        v_color = np.random.uniform(0, 1, (n, 3)).astype(np.float32)\n        v_size = np.random.uniform(2*ps, 12*ps, (n, 1)).astype(np.float32)\n\n        self.program = gloo.Program(VERT_SHADER, FRAG_SHADER)\n        # Set uniform and attribute\n        self.program['a_color'] = gloo.VertexBuffer(v_color)\n        self.program['a_position'] = gloo.VertexBuffer(v_position)\n        self.program['a_size'] = gloo.VertexBuffer(v_size)\n        gloo.set_state(clear_color='white', blend=True,\n                       blend_func=('src_alpha', 'one_minus_src_alpha'))\n\n        self.show()\n\n    def on_resize(self, event):\n        gloo.set_viewport(0, 0, *event.physical_size)\n\n    def on_draw(self, event):\n        gloo.clear(color=True, depth=True)\n        self.program.draw('points')\n\n\nif __name__ == '__main__':\n    canvas = Canvas()\n    app.run()"
      ]
    }
  ],
  "metadata": {
    "kernelspec": {
      "display_name": "Python 3",
      "language": "python",
      "name": "python3"
    },
    "language_info": {
      "codemirror_mode": {
        "name": "ipython",
        "version": 3
      },
      "file_extension": ".py",
      "mimetype": "text/x-python",
      "name": "python",
      "nbconvert_exporter": "python",
      "pygments_lexer": "ipython3",
      "version": "3.9.0"
    }
  },
  "nbformat": 4,
  "nbformat_minor": 0
}