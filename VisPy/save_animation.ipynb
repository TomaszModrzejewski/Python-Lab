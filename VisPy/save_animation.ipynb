{
  "cells": [
    {
      "cell_type": "code",
      "execution_count": null,
      "metadata": {
        "collapsed": false
      },
      "outputs": [],
      "source": [
        "%gui qt"
      ]
    },
    {
      "cell_type": "markdown",
      "metadata": {},
      "source": [
        "\n# Create and Save Animation\n\nThis example demonstrates how to create a sphere.\n"
      ]
    },
    {
      "cell_type": "code",
      "execution_count": null,
      "metadata": {
        "collapsed": false
      },
      "outputs": [],
      "source": [
        "import imageio\n\nfrom vispy import scene\nfrom vispy.visuals.transforms import STTransform\n\noutput_filename = 'animation.gif'\nn_steps = 18\nstep_angle = 10.\naxis = [0, 0.707, 0.707]\n\ncanvas = scene.SceneCanvas(keys='interactive', bgcolor='white',\n                           size=(800, 600), show=True)\n\nview = canvas.central_widget.add_view()\nview.camera = 'arcball'\n\nsphere1 = scene.visuals.Sphere(radius=1, method='latitude', parent=view.scene,\n                               edge_color='black')\n\nsphere2 = scene.visuals.Sphere(radius=1, method='ico', parent=view.scene,\n                               edge_color='black')\n\nsphere3 = scene.visuals.Sphere(radius=1, rows=10, cols=10, depth=10,\n                               method='cube', parent=view.scene,\n                               edge_color='black')\n\nsphere1.transform = STTransform(translate=[-2.5, 0, 0])\nsphere3.transform = STTransform(translate=[2.5, 0, 0])\n\nview.camera.set_range(x=[-3, 3])\n\nwriter = imageio.get_writer('animation.gif')\nfor i in range(n_steps * 2):\n    im = canvas.render(alpha=True)\n    writer.append_data(im)\n    if i >= n_steps:\n        view.camera.transform.rotate(step_angle, axis)\n    else:\n        view.camera.transform.rotate(-step_angle, axis)\nwriter.close()"
      ]
    }
  ],
  "metadata": {
    "kernelspec": {
      "display_name": "Python 3",
      "language": "python",
      "name": "python3"
    },
    "language_info": {
      "codemirror_mode": {
        "name": "ipython",
        "version": 3
      },
      "file_extension": ".py",
      "mimetype": "text/x-python",
      "name": "python",
      "nbconvert_exporter": "python",
      "pygments_lexer": "ipython3",
      "version": "3.9.0"
    }
  },
  "nbformat": 4,
  "nbformat_minor": 0
}