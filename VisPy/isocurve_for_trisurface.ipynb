{
  "cells": [
    {
      "cell_type": "code",
      "execution_count": null,
      "metadata": {
        "collapsed": false
      },
      "outputs": [],
      "source": [
        "%gui qt"
      ]
    },
    {
      "cell_type": "markdown",
      "metadata": {},
      "source": [
        "\n# Isocurve for Triangular Mesh \n\nThis example demonstrates isocurve for triangular mesh with vertex data.\n"
      ]
    },
    {
      "cell_type": "code",
      "execution_count": null,
      "metadata": {
        "collapsed": false
      },
      "outputs": [],
      "source": [
        "import numpy as np\n\nfrom vispy import app, scene\n\nfrom vispy.geometry.generation import create_sphere\n\nimport sys\n\n# Create a canvas with a 3D viewport\ncanvas = scene.SceneCanvas(keys='interactive',\n                           title='Isocurve for Triangular Mesh Example')\ncanvas.show()\nview = canvas.central_widget.add_view()\n\ncols = 10\nrows = 10\nradius = 2\nnbr_level = 20\nmesh = create_sphere(cols, rows, radius=radius)\nvertices = mesh.get_vertices()\ntris = mesh.get_faces()\n\ncl = np.linspace(-radius, radius, nbr_level+2)[1:-1]\n\nscene.visuals.Isoline(vertices=vertices, tris=tris, data=vertices[:, 2],\n                      levels=cl, color_lev='winter', parent=view.scene)\n\n# Add a 3D axis to keep us oriented\nscene.visuals.XYZAxis(parent=view.scene)\n\nview.camera = scene.TurntableCamera()\nview.camera.set_range((-1, 1), (-1, 1), (-1, 1))\n\nif __name__ == '__main__' and sys.flags.interactive == 0:\n    app.run()"
      ]
    }
  ],
  "metadata": {
    "kernelspec": {
      "display_name": "Python 3",
      "language": "python",
      "name": "python3"
    },
    "language_info": {
      "codemirror_mode": {
        "name": "ipython",
        "version": 3
      },
      "file_extension": ".py",
      "mimetype": "text/x-python",
      "name": "python",
      "nbconvert_exporter": "python",
      "pygments_lexer": "ipython3",
      "version": "3.9.0"
    }
  },
  "nbformat": 4,
  "nbformat_minor": 0
}