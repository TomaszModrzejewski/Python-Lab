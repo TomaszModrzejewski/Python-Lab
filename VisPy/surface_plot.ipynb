{
  "cells": [
    {
      "cell_type": "code",
      "execution_count": null,
      "metadata": {
        "collapsed": false
      },
      "outputs": [],
      "source": [
        "%gui qt"
      ]
    },
    {
      "cell_type": "markdown",
      "metadata": {},
      "source": [
        "\n# Draw a SurfacePlot\n\nThis example demonstrates the use of the SurfacePlot visual.\n"
      ]
    },
    {
      "cell_type": "code",
      "execution_count": null,
      "metadata": {
        "collapsed": false
      },
      "outputs": [],
      "source": [
        "import sys\nimport numpy as np\n\nfrom vispy import app, scene\nfrom vispy.util.filter import gaussian_filter\n\n\ncanvas = scene.SceneCanvas(keys='interactive', bgcolor='w')\nview = canvas.central_widget.add_view()\nview.camera = scene.TurntableCamera(up='z', fov=60)\n\n# Simple surface plot example\n# x, y values are not specified, so assumed to be 0:50\nz = np.random.normal(size=(250, 250), scale=200)\nz[100, 100] += 50000\nz = gaussian_filter(z, (10, 10))\np1 = scene.visuals.SurfacePlot(z=z, color=(0.3, 0.3, 1, 1))\np1.transform = scene.transforms.MatrixTransform()\np1.transform.scale([1/249., 1/249., 1/249.])\np1.transform.translate([-0.5, -0.5, 0])\n\nview.add(p1)\n\n# p1._update_data()  # cheating.\n# cf = scene.filters.ZColormapFilter('fire', zrange=(z.max(), z.min()))\n# p1.attach(cf)\n\n\nxax = scene.Axis(pos=[[-0.5, -0.5], [0.5, -0.5]], tick_direction=(0, -1),\n                 font_size=16, axis_color='k', tick_color='k', text_color='k',\n                 parent=view.scene)\nxax.transform = scene.STTransform(translate=(0, 0, -0.2))\n\nyax = scene.Axis(pos=[[-0.5, -0.5], [-0.5, 0.5]], tick_direction=(-1, 0),\n                 font_size=16, axis_color='k', tick_color='k', text_color='k',\n                 parent=view.scene)\nyax.transform = scene.STTransform(translate=(0, 0, -0.2))\n\n# Add a 3D axis to keep us oriented\naxis = scene.visuals.XYZAxis(parent=view.scene)\n\nif __name__ == '__main__':\n    canvas.show()\n    if sys.flags.interactive == 0:\n        app.run()"
      ]
    }
  ],
  "metadata": {
    "kernelspec": {
      "display_name": "Python 3",
      "language": "python",
      "name": "python3"
    },
    "language_info": {
      "codemirror_mode": {
        "name": "ipython",
        "version": 3
      },
      "file_extension": ".py",
      "mimetype": "text/x-python",
      "name": "python",
      "nbconvert_exporter": "python",
      "pygments_lexer": "ipython3",
      "version": "3.9.0"
    }
  },
  "nbformat": 4,
  "nbformat_minor": 0
}