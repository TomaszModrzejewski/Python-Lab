{
  "cells": [
    {
      "cell_type": "code",
      "execution_count": null,
      "metadata": {
        "collapsed": false
      },
      "outputs": [],
      "source": [
        "%gui qt"
      ]
    },
    {
      "cell_type": "markdown",
      "metadata": {},
      "source": [
        "\n# Display a Cube\n\nSimple use of SceneCanvas to display a cube with an arcball camera.\n"
      ]
    },
    {
      "cell_type": "code",
      "execution_count": null,
      "metadata": {
        "collapsed": false
      },
      "outputs": [],
      "source": [
        "import sys\n\nfrom vispy import scene\nfrom vispy.color import Color\ncanvas = scene.SceneCanvas(keys='interactive', size=(800, 600), show=True)\n\n# Set up a viewbox to display the cube with interactive arcball\nview = canvas.central_widget.add_view()\nview.bgcolor = '#efefef'\nview.camera = 'turntable'\nview.padding = 100\n\ncolor = Color(\"#3f51b5\")\n\ncube = scene.visuals.Box(1, 1, 1, color=color, edge_color=\"black\",\n                         parent=view.scene)\nif __name__ == '__main__' and sys.flags.interactive == 0:\n    canvas.app.run()"
      ]
    }
  ],
  "metadata": {
    "kernelspec": {
      "display_name": "Python 3",
      "language": "python",
      "name": "python3"
    },
    "language_info": {
      "codemirror_mode": {
        "name": "ipython",
        "version": 3
      },
      "file_extension": ".py",
      "mimetype": "text/x-python",
      "name": "python",
      "nbconvert_exporter": "python",
      "pygments_lexer": "ipython3",
      "version": "3.9.0"
    }
  },
  "nbformat": 4,
  "nbformat_minor": 0
}