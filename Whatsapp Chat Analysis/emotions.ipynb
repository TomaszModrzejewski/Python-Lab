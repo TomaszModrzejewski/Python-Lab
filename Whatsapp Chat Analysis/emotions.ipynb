{
 "cells": [
  {
   "cell_type": "markdown",
   "metadata": {},
   "source": [
    "# WhatsApp Chat Analysis"
   ]
  },
  {
   "cell_type": "markdown",
   "metadata": {},
   "source": [
    "**Step 1.** Declare RegExp patterns that you want to remove from the chat file. "
   ]
  },
  {
   "cell_type": "code",
   "execution_count": 1,
   "metadata": {},
   "outputs": [],
   "source": [
    "import re\n",
    "\n",
    "mediaPattern = r\"(\\<Media omitted\\>)\" # Because it serves no purpose\n",
    "regexMedia = re.compile(mediaPattern, flags=re.M)\n",
    "\n",
    "dateAndTimepattern = r\"(\\d+\\/\\d+\\/\\d+)(,)(\\s)(\\d+:\\d+)(\\s)(\\w+)(\\s)(-)(\\s\\w+)*(:)\"\n",
    "regexDate = re.compile(dateAndTimepattern, flags=re.M)"
   ]
  },
  {
   "cell_type": "markdown",
   "metadata": {},
   "source": [
    "**Step 2.** Define a function that will remove the artefacts, and return the chat file split into lines."
   ]
  },
  {
   "cell_type": "code",
   "execution_count": 2,
   "metadata": {},
   "outputs": [
    {
     "name": "stderr",
     "output_type": "stream",
     "text": [
      "<>:19: SyntaxWarning: \"is not\" with a literal. Did you mean \"!=\"?\n",
      "<>:19: SyntaxWarning: \"is not\" with a literal. Did you mean \"!=\"?\n",
      "C:\\Users\\GOH15\\AppData\\Local\\Temp\\ipykernel_11520\\2731680370.py:19: SyntaxWarning: \"is not\" with a literal. Did you mean \"!=\"?\n",
      "  if line.strip() is not \"\": # If it's empty, we don't need it\n"
     ]
    }
   ],
   "source": [
    "def cleanText(filename):    \n",
    "    # encoding will allow for easier pasrsing of files\n",
    "    chat = open(filename, encoding=\"utf8\")\n",
    "    chatText = chat.read()\n",
    "    chat.close()\n",
    "\n",
    "    # 01/03/22, 11:34 PM - Amfa:\n",
    "\n",
    "    \"\"\"\n",
    "    Removes the matches and \n",
    "    replace them with an empty string\n",
    "    \"\"\"\n",
    "    chatText = regexMedia.sub(\"\", chatText)\n",
    "    chatText = regexDate.sub(\"\", chatText)\n",
    "\n",
    "    lines = []\n",
    "\n",
    "    for line in chatText.splitlines():\n",
    "        if line.strip() is not \"\": # If it's empty, we don't need it\n",
    "            lines.append(line.strip())\n",
    "\n",
    "    return lines"
   ]
  },
  {
   "cell_type": "markdown",
   "metadata": {},
   "source": [
    "**Step 3.** Import Dependencies for the actual shenanigans."
   ]
  },
  {
   "cell_type": "code",
   "execution_count": 3,
   "metadata": {},
   "outputs": [
    {
     "name": "stderr",
     "output_type": "stream",
     "text": [
      "d:\\LINKEDIN LEARNING\\1. INNE\\Whatsapp Chat Analysis\\utilities.py:30: SyntaxWarning: \"is not\" with a literal. Did you mean \"!=\"?\n",
      "  if line.strip() is not \"\": # If it's empty, we don't need it\n"
     ]
    }
   ],
   "source": [
    "import sys\n",
    "import matplotlib.pyplot as plt\n",
    "import nltk\n",
    "from utilities import cleanText \n",
    "from nltk.sentiment.vader import SentimentIntensityAnalyzer\n",
    "sentiment_analyzer = SentimentIntensityAnalyzer()"
   ]
  },
  {
   "cell_type": "markdown",
   "metadata": {},
   "source": [
    "**Step 4.** Define an analyze method that takes in the name of the chat file, and then performs magic (through code.)"
   ]
  },
  {
   "cell_type": "code",
   "execution_count": 4,
   "metadata": {},
   "outputs": [],
   "source": [
    "def analyze(name):\n",
    "    linesList = cleanText(name + '.txt')\n",
    "    neutral, negative, positive = 0, 0, 0\n",
    "\n",
    "    for index, sentence in enumerate(linesList):\n",
    "        if re.match(r'^[\\w]', sentence) is None:\n",
    "            continue\n",
    "        scores = sentiment_analyzer.polarity_scores(sentence)\n",
    "        scores.pop('compound', None)\n",
    "\n",
    "        maxAttribute = max(scores, key=lambda k: scores[k])\n",
    "\n",
    "        if maxAttribute == \"neu\":\n",
    "            neutral += 1\n",
    "        elif maxAttribute == \"neg\":\n",
    "            negative += 1\n",
    "        else:\n",
    "            positive += 1\n",
    "\n",
    "    total = neutral + negative + positive\n",
    "    print(\"Negative: {0}% | Neutral: {1}% | Positive: {2}%\".format(\n",
    "        negative*100/total, neutral*100/total, positive*100/total))\n",
    "\n",
    "    labels = 'Neutral', 'Negative', 'Positive'\n",
    "    sizes = [neutral, negative, positive]\n",
    "    colors = ['#00bcd7', '#F57C00', '#CDDC39']\n",
    "\n",
    "    # Plot\n",
    "    plt.pie(sizes, labels=labels, colors=colors,\n",
    "            autopct='%1.1f%%', startangle=140)\n",
    "\n",
    "    plt.axis('equal')\n",
    "    plt.title(\"Sentiment Analysis - Chat with {0}\".format(name.capitalize()))\n",
    "    plt.show()"
   ]
  },
  {
   "cell_type": "code",
   "execution_count": 5,
   "metadata": {},
   "outputs": [],
   "source": [
    "%matplotlib inline"
   ]
  },
  {
   "cell_type": "code",
   "execution_count": 6,
   "metadata": {},
   "outputs": [
    {
     "name": "stdout",
     "output_type": "stream",
     "text": [
      "Negative: 0.0% | Neutral: 100.0% | Positive: 0.0%\n"
     ]
    },
    {
     "data": {
      "image/png": "[encoded data removed]",
      "text/plain": [
       "<Figure size 432x288 with 1 Axes>"
      ]
     },
     "metadata": {},
     "output_type": "display_data"
    }
   ],
   "source": [
    "# the name of the txt file to be analyzed\n",
    "analyze(\"test_chat\")"
   ]
  },
  {
   "cell_type": "code",
   "execution_count": null,
   "metadata": {},
   "outputs": [],
   "source": []
  }
 ],
 "metadata": {
  "kernelspec": {
   "display_name": "Python 3",
   "language": "python",
   "name": "python3"
  },
  "language_info": {
   "codemirror_mode": {
    "name": "ipython",
    "version": 3
   },
   "file_extension": ".py",
   "mimetype": "text/x-python",
   "name": "python",
   "nbconvert_exporter": "python",
   "pygments_lexer": "ipython3",
   "version": "3.8.12"
  }
 },
 "nbformat": 4,
 "nbformat_minor": 2
}
